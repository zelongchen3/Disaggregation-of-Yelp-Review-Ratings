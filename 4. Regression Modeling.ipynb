{
 "cells": [
  {
   "cell_type": "code",
   "execution_count": 67,
   "metadata": {},
   "outputs": [],
   "source": [
    "import os\n",
    "import csv\n",
    "import pandas as pd\n",
    "import numpy as np\n",
    "import sklearn\n",
    "import string\n",
    "import statsmodels.api as sm\n",
    "import nltk\n",
    "import seaborn as sns\n",
    "import matplotlib.pyplot as plt\n",
    "%matplotlib inline\n",
    "\n",
    "from sklearn.feature_extraction.text import TfidfVectorizer\n",
    "from sklearn.model_selection import train_test_split\n",
    "from sklearn.decomposition import NMF\n",
    "from sklearn.linear_model import LinearRegression\n",
    "from sklearn.linear_model import RidgeCV\n",
    "from sklearn.preprocessing import PolynomialFeatures\n",
    "from sklearn.linear_model import Lasso, Ridge, ElasticNet, LassoCV\n",
    "from sklearn.metrics import mean_squared_error\n",
    "from sklearn.model_selection import KFold, cross_val_score\n",
    "from sklearn.model_selection import cross_val_predict\n",
    "from sklearn.model_selection import GridSearchCV\n",
    "from nltk import tokenize\n",
    "from vaderSentiment.vaderSentiment import SentimentIntensityAnalyzer"
   ]
  },
  {
   "cell_type": "code",
   "execution_count": 4,
   "metadata": {},
   "outputs": [],
   "source": [
    "def print_top_words(model, feature_names, n_top_words):\n",
    "    for topic_idx, topic in enumerate(model.components_):\n",
    "        message = \"Topic #%d: \" % topic_idx\n",
    "        message += \" \".join([feature_names[i]\n",
    "                             for i in topic.argsort()[:-n_top_words - 1:-1]])\n",
    "        print(message)\n",
    "    print()"
   ]
  },
  {
   "cell_type": "code",
   "execution_count": 5,
   "metadata": {},
   "outputs": [],
   "source": [
    "def display_topics(model, feature_names, num_topics, no_top_words):\n",
    "    for topic_idx, topic in enumerate(model.components_):\n",
    "        if topic_idx < num_topics:\n",
    "            print(\"{:11}\".format(\"Topic %d:\" %(topic_idx)), end='')\n",
    "            print(\", \".join(['{:04.3f}*'.format(topic[i])+feature_names[i] \\\n",
    "                             for i in topic.argsort()[:-no_top_words-1:-1]]))"
   ]
  },
  {
   "cell_type": "markdown",
   "metadata": {},
   "source": [
    "### Read in Data"
   ]
  },
  {
   "cell_type": "code",
   "execution_count": 6,
   "metadata": {},
   "outputs": [
    {
     "data": {
      "text/html": [
       "<div>\n",
       "<style scoped>\n",
       "    .dataframe tbody tr th:only-of-type {\n",
       "        vertical-align: middle;\n",
       "    }\n",
       "\n",
       "    .dataframe tbody tr th {\n",
       "        vertical-align: top;\n",
       "    }\n",
       "\n",
       "    .dataframe thead th {\n",
       "        text-align: right;\n",
       "    }\n",
       "</style>\n",
       "<table border=\"1\" class=\"dataframe\">\n",
       "  <thead>\n",
       "    <tr style=\"text-align: right;\">\n",
       "      <th></th>\n",
       "      <th>Unnamed: 0</th>\n",
       "      <th>name</th>\n",
       "      <th>stars_y</th>\n",
       "      <th>text</th>\n",
       "      <th>userid</th>\n",
       "    </tr>\n",
       "  </thead>\n",
       "  <tbody>\n",
       "    <tr>\n",
       "      <th>0</th>\n",
       "      <td>0</td>\n",
       "      <td>Hash House A Go Go</td>\n",
       "      <td>5</td>\n",
       "      <td>Firstly, this restaurant is in The Linq Hotel,...</td>\n",
       "      <td>0</td>\n",
       "    </tr>\n",
       "    <tr>\n",
       "      <th>1</th>\n",
       "      <td>1</td>\n",
       "      <td>Hash House A Go Go</td>\n",
       "      <td>4</td>\n",
       "      <td>This place had monsterous proportions OMG! One...</td>\n",
       "      <td>1</td>\n",
       "    </tr>\n",
       "    <tr>\n",
       "      <th>2</th>\n",
       "      <td>2</td>\n",
       "      <td>Hash House A Go Go</td>\n",
       "      <td>5</td>\n",
       "      <td>This place freaking rocks. Must go to when in ...</td>\n",
       "      <td>2</td>\n",
       "    </tr>\n",
       "    <tr>\n",
       "      <th>3</th>\n",
       "      <td>3</td>\n",
       "      <td>Hash House A Go Go</td>\n",
       "      <td>3</td>\n",
       "      <td>Visited HHAGG ago go for the first time on 5/5...</td>\n",
       "      <td>3</td>\n",
       "    </tr>\n",
       "    <tr>\n",
       "      <th>4</th>\n",
       "      <td>4</td>\n",
       "      <td>Hash House A Go Go</td>\n",
       "      <td>3</td>\n",
       "      <td>Big portions. Sharing is highly recommended. H...</td>\n",
       "      <td>4</td>\n",
       "    </tr>\n",
       "  </tbody>\n",
       "</table>\n",
       "</div>"
      ],
      "text/plain": [
       "   Unnamed: 0                name  stars_y  \\\n",
       "0           0  Hash House A Go Go        5   \n",
       "1           1  Hash House A Go Go        4   \n",
       "2           2  Hash House A Go Go        5   \n",
       "3           3  Hash House A Go Go        3   \n",
       "4           4  Hash House A Go Go        3   \n",
       "\n",
       "                                                text  userid  \n",
       "0  Firstly, this restaurant is in The Linq Hotel,...       0  \n",
       "1  This place had monsterous proportions OMG! One...       1  \n",
       "2  This place freaking rocks. Must go to when in ...       2  \n",
       "3  Visited HHAGG ago go for the first time on 5/5...       3  \n",
       "4  Big portions. Sharing is highly recommended. H...       4  "
      ]
     },
     "execution_count": 6,
     "metadata": {},
     "output_type": "execute_result"
    }
   ],
   "source": [
    "# Read in Data\n",
    "data = pd.read_csv('./input/hash_house.csv')\n",
    "data['userid'] = data['Unnamed: 0']\n",
    "data.head()"
   ]
  },
  {
   "cell_type": "code",
   "execution_count": 7,
   "metadata": {},
   "outputs": [
    {
     "name": "stderr",
     "output_type": "stream",
     "text": [
      "[nltk_data] Downloading package punkt to /Users/jasper/nltk_data...\n",
      "[nltk_data]   Package punkt is already up-to-date!\n"
     ]
    },
    {
     "data": {
      "text/plain": [
       "True"
      ]
     },
     "execution_count": 7,
     "metadata": {},
     "output_type": "execute_result"
    }
   ],
   "source": [
    "nltk.download('punkt')"
   ]
  },
  {
   "cell_type": "markdown",
   "metadata": {},
   "source": [
    "### Number of Topics"
   ]
  },
  {
   "cell_type": "code",
   "execution_count": 8,
   "metadata": {},
   "outputs": [],
   "source": [
    "# Split reviews into individual sentences \n",
    "df = pd.DataFrame(columns=['userid','sentence','stars'])\n",
    "for i in range(0,len(data),1):\n",
    "    sentences = tokenize.sent_tokenize(data.text[i])\n",
    "    for j in sentences:\n",
    "        df = df.append({'userid':data.userid[i],'sentence':j,'stars':data.stars_y[i]},ignore_index=True)"
   ]
  },
  {
   "cell_type": "code",
   "execution_count": 9,
   "metadata": {},
   "outputs": [
    {
     "data": {
      "text/html": [
       "<div>\n",
       "<style scoped>\n",
       "    .dataframe tbody tr th:only-of-type {\n",
       "        vertical-align: middle;\n",
       "    }\n",
       "\n",
       "    .dataframe tbody tr th {\n",
       "        vertical-align: top;\n",
       "    }\n",
       "\n",
       "    .dataframe thead th {\n",
       "        text-align: right;\n",
       "    }\n",
       "</style>\n",
       "<table border=\"1\" class=\"dataframe\">\n",
       "  <thead>\n",
       "    <tr style=\"text-align: right;\">\n",
       "      <th></th>\n",
       "      <th>userid</th>\n",
       "      <th>sentence</th>\n",
       "      <th>stars</th>\n",
       "    </tr>\n",
       "  </thead>\n",
       "  <tbody>\n",
       "    <tr>\n",
       "      <th>0</th>\n",
       "      <td>0</td>\n",
       "      <td>Firstly, this restaurant is in The Linq Hotel,...</td>\n",
       "      <td>5</td>\n",
       "    </tr>\n",
       "    <tr>\n",
       "      <th>1</th>\n",
       "      <td>0</td>\n",
       "      <td>Expect a line.</td>\n",
       "      <td>5</td>\n",
       "    </tr>\n",
       "    <tr>\n",
       "      <th>2</th>\n",
       "      <td>0</td>\n",
       "      <td>Waited only about 15 minutes to be seated, tho...</td>\n",
       "      <td>5</td>\n",
       "    </tr>\n",
       "    <tr>\n",
       "      <th>3</th>\n",
       "      <td>0</td>\n",
       "      <td>Greeted by Tony our waiter who was really warm...</td>\n",
       "      <td>5</td>\n",
       "    </tr>\n",
       "    <tr>\n",
       "      <th>4</th>\n",
       "      <td>0</td>\n",
       "      <td>Ordered the Sage Fried Chicken and Waffles.</td>\n",
       "      <td>5</td>\n",
       "    </tr>\n",
       "  </tbody>\n",
       "</table>\n",
       "</div>"
      ],
      "text/plain": [
       "  userid                                           sentence stars\n",
       "0      0  Firstly, this restaurant is in The Linq Hotel,...     5\n",
       "1      0                                     Expect a line.     5\n",
       "2      0  Waited only about 15 minutes to be seated, tho...     5\n",
       "3      0  Greeted by Tony our waiter who was really warm...     5\n",
       "4      0        Ordered the Sage Fried Chicken and Waffles.     5"
      ]
     },
     "execution_count": 9,
     "metadata": {},
     "output_type": "execute_result"
    }
   ],
   "source": [
    "df.head()"
   ]
  },
  {
   "cell_type": "code",
   "execution_count": 10,
   "metadata": {},
   "outputs": [],
   "source": [
    "# Create Corpus for TFIDF\n",
    "corpus = []\n",
    "for i in df.sentence:\n",
    "        corpus.append(i)"
   ]
  },
  {
   "cell_type": "markdown",
   "metadata": {},
   "source": [
    "### 7 Topics"
   ]
  },
  {
   "cell_type": "code",
   "execution_count": 11,
   "metadata": {},
   "outputs": [
    {
     "name": "stdout",
     "output_type": "stream",
     "text": [
      "\n",
      "Topics in NMF model (generalized Kullback-Leibler divergence):\n",
      "Topic #0: great service friendly excellent experience staff customer slow server fast atmosphere attentive waiter quick bad\n",
      "Topic #1: chicken waffles fried sage benedict ordered bacon got eggs delicious andy waffle potatoes crispy hash\n",
      "Topic #2: huge portions large big share portion delicious people prices plate massive enormous hungry meal tasty\n",
      "Topic #3: good really pretty service overall just potatoes biscuits bloody thing mary taste coffee biscuit wasn\n",
      "Topic #4: place vegas breakfast definitely hash love house try time come eat best recommend just las\n",
      "Topic #5: food amazing delicious man vs awesome just came lot price excellent took quality tasty large\n",
      "Topic #6: wait worth long time minutes hour seated 30 table minute 45 20 come definitely 10\n",
      "\n"
     ]
    }
   ],
   "source": [
    "n_components = 7\n",
    "n_top_words = 15\n",
    "\n",
    "# TFIDF Vectorizer\n",
    "tfidf_vectorizer = TfidfVectorizer(stop_words='english')\n",
    "tfidf = tfidf_vectorizer.fit_transform(corpus)\n",
    "\n",
    "# NMF reduction\n",
    "nmf = NMF(n_components=n_components).fit(tfidf)\n",
    "W_pos = nmf.fit_transform(tfidf)\n",
    "\n",
    "# Output Topics\n",
    "print(\"\\nTopics in NMF model (generalized Kullback-Leibler divergence):\")\n",
    "tfidf_feature_names = tfidf_vectorizer.get_feature_names()\n",
    "print_top_words(nmf, tfidf_feature_names, n_top_words)"
   ]
  },
  {
   "cell_type": "markdown",
   "metadata": {},
   "source": [
    "- Topic #0: Service\n",
    "- Topic #1: Food\n",
    "- Topic #2: \"Worth it\"\n",
    "- Topic #3: Food / Service\n",
    "- Topic #4: \n",
    "- Topic #5: Food\n",
    "- Topic #6: Wait"
   ]
  },
  {
   "cell_type": "markdown",
   "metadata": {},
   "source": [
    "### Label Sentences"
   ]
  },
  {
   "cell_type": "code",
   "execution_count": 12,
   "metadata": {},
   "outputs": [],
   "source": [
    "# Append Topic with highest score\n",
    "array = []\n",
    "# For all NMF array\n",
    "for i in range(0,len(W_pos),1):\n",
    "    # Create dictionary with Topics and its NMF scores for each sentence\n",
    "    topic_dict = {}\n",
    "    # Drop sentences that have length less than 10 by setting topic to -1\n",
    "    if len(corpus[i])>=10:\n",
    "        for ind, w in enumerate(W_pos[i]):\n",
    "            topic_dict[ind] = w\n",
    "        # Classify sentence to the topic with highest score\n",
    "        array.append(max(topic_dict, key=topic_dict.get))\n",
    "    else:\n",
    "        array.append(-1)\n",
    "# Create new column in df for topic\n",
    "df['Topic'] = array"
   ]
  },
  {
   "cell_type": "code",
   "execution_count": 13,
   "metadata": {},
   "outputs": [
    {
     "data": {
      "text/html": [
       "<div>\n",
       "<style scoped>\n",
       "    .dataframe tbody tr th:only-of-type {\n",
       "        vertical-align: middle;\n",
       "    }\n",
       "\n",
       "    .dataframe tbody tr th {\n",
       "        vertical-align: top;\n",
       "    }\n",
       "\n",
       "    .dataframe thead th {\n",
       "        text-align: right;\n",
       "    }\n",
       "</style>\n",
       "<table border=\"1\" class=\"dataframe\">\n",
       "  <thead>\n",
       "    <tr style=\"text-align: right;\">\n",
       "      <th></th>\n",
       "      <th>userid</th>\n",
       "      <th>sentence</th>\n",
       "      <th>stars</th>\n",
       "      <th>Topic</th>\n",
       "    </tr>\n",
       "  </thead>\n",
       "  <tbody>\n",
       "    <tr>\n",
       "      <th>0</th>\n",
       "      <td>0</td>\n",
       "      <td>Firstly, this restaurant is in The Linq Hotel,...</td>\n",
       "      <td>5</td>\n",
       "      <td>4</td>\n",
       "    </tr>\n",
       "    <tr>\n",
       "      <th>1</th>\n",
       "      <td>0</td>\n",
       "      <td>Expect a line.</td>\n",
       "      <td>5</td>\n",
       "      <td>6</td>\n",
       "    </tr>\n",
       "    <tr>\n",
       "      <th>2</th>\n",
       "      <td>0</td>\n",
       "      <td>Waited only about 15 minutes to be seated, tho...</td>\n",
       "      <td>5</td>\n",
       "      <td>6</td>\n",
       "    </tr>\n",
       "    <tr>\n",
       "      <th>3</th>\n",
       "      <td>0</td>\n",
       "      <td>Greeted by Tony our waiter who was really warm...</td>\n",
       "      <td>5</td>\n",
       "      <td>3</td>\n",
       "    </tr>\n",
       "    <tr>\n",
       "      <th>4</th>\n",
       "      <td>0</td>\n",
       "      <td>Ordered the Sage Fried Chicken and Waffles.</td>\n",
       "      <td>5</td>\n",
       "      <td>1</td>\n",
       "    </tr>\n",
       "  </tbody>\n",
       "</table>\n",
       "</div>"
      ],
      "text/plain": [
       "  userid                                           sentence stars  Topic\n",
       "0      0  Firstly, this restaurant is in The Linq Hotel,...     5      4\n",
       "1      0                                     Expect a line.     5      6\n",
       "2      0  Waited only about 15 minutes to be seated, tho...     5      6\n",
       "3      0  Greeted by Tony our waiter who was really warm...     5      3\n",
       "4      0        Ordered the Sage Fried Chicken and Waffles.     5      1"
      ]
     },
     "execution_count": 13,
     "metadata": {},
     "output_type": "execute_result"
    }
   ],
   "source": [
    "df.head()"
   ]
  },
  {
   "cell_type": "markdown",
   "metadata": {},
   "source": [
    "### Vader Sentiment Analysis"
   ]
  },
  {
   "cell_type": "code",
   "execution_count": 14,
   "metadata": {},
   "outputs": [],
   "source": [
    "# Initialize Sentiment Intensity Analyzer\n",
    "analyser = SentimentIntensityAnalyzer()"
   ]
  },
  {
   "cell_type": "code",
   "execution_count": 15,
   "metadata": {},
   "outputs": [],
   "source": [
    "# Append Sentiment Intensity Scores for each sentence\n",
    "array = []\n",
    "for i in df.sentence:\n",
    "    # Generate Sentiment Intensity Scores and store in array\n",
    "    score = analyser.polarity_scores(i)\n",
    "    array.append(score['compound'])\n",
    "# Create new column in df for sentiment intensity score\n",
    "df['sentiment'] = array"
   ]
  },
  {
   "cell_type": "code",
   "execution_count": 16,
   "metadata": {},
   "outputs": [
    {
     "data": {
      "text/html": [
       "<div>\n",
       "<style scoped>\n",
       "    .dataframe tbody tr th:only-of-type {\n",
       "        vertical-align: middle;\n",
       "    }\n",
       "\n",
       "    .dataframe tbody tr th {\n",
       "        vertical-align: top;\n",
       "    }\n",
       "\n",
       "    .dataframe thead th {\n",
       "        text-align: right;\n",
       "    }\n",
       "</style>\n",
       "<table border=\"1\" class=\"dataframe\">\n",
       "  <thead>\n",
       "    <tr style=\"text-align: right;\">\n",
       "      <th></th>\n",
       "      <th>userid</th>\n",
       "      <th>sentence</th>\n",
       "      <th>stars</th>\n",
       "      <th>Topic</th>\n",
       "      <th>sentiment</th>\n",
       "    </tr>\n",
       "  </thead>\n",
       "  <tbody>\n",
       "    <tr>\n",
       "      <th>0</th>\n",
       "      <td>0</td>\n",
       "      <td>Firstly, this restaurant is in The Linq Hotel,...</td>\n",
       "      <td>5</td>\n",
       "      <td>4</td>\n",
       "      <td>0.0000</td>\n",
       "    </tr>\n",
       "    <tr>\n",
       "      <th>1</th>\n",
       "      <td>0</td>\n",
       "      <td>Expect a line.</td>\n",
       "      <td>5</td>\n",
       "      <td>6</td>\n",
       "      <td>0.0000</td>\n",
       "    </tr>\n",
       "    <tr>\n",
       "      <th>2</th>\n",
       "      <td>0</td>\n",
       "      <td>Waited only about 15 minutes to be seated, tho...</td>\n",
       "      <td>5</td>\n",
       "      <td>6</td>\n",
       "      <td>0.0000</td>\n",
       "    </tr>\n",
       "    <tr>\n",
       "      <th>3</th>\n",
       "      <td>0</td>\n",
       "      <td>Greeted by Tony our waiter who was really warm...</td>\n",
       "      <td>5</td>\n",
       "      <td>3</td>\n",
       "      <td>0.8669</td>\n",
       "    </tr>\n",
       "    <tr>\n",
       "      <th>4</th>\n",
       "      <td>0</td>\n",
       "      <td>Ordered the Sage Fried Chicken and Waffles.</td>\n",
       "      <td>5</td>\n",
       "      <td>1</td>\n",
       "      <td>0.0000</td>\n",
       "    </tr>\n",
       "  </tbody>\n",
       "</table>\n",
       "</div>"
      ],
      "text/plain": [
       "  userid                                           sentence stars  Topic  \\\n",
       "0      0  Firstly, this restaurant is in The Linq Hotel,...     5      4   \n",
       "1      0                                     Expect a line.     5      6   \n",
       "2      0  Waited only about 15 minutes to be seated, tho...     5      6   \n",
       "3      0  Greeted by Tony our waiter who was really warm...     5      3   \n",
       "4      0        Ordered the Sage Fried Chicken and Waffles.     5      1   \n",
       "\n",
       "   sentiment  \n",
       "0     0.0000  \n",
       "1     0.0000  \n",
       "2     0.0000  \n",
       "3     0.8669  \n",
       "4     0.0000  "
      ]
     },
     "execution_count": 16,
     "metadata": {},
     "output_type": "execute_result"
    }
   ],
   "source": [
    "df.head()"
   ]
  },
  {
   "cell_type": "code",
   "execution_count": 17,
   "metadata": {},
   "outputs": [],
   "source": [
    "# Initialize Final df of intensity scores\n",
    "df_scores = pd.DataFrame(columns=['userid','topic_0','topic_1','topic_2',\n",
    "                                  'topic_3','topic_4','topic_5','topic_6','stars'])\n",
    "# For every user aggregate the sentiment scores by topic\n",
    "for i in range(0,len(data),1):\n",
    "    # Create df of scores from same user\n",
    "    temp_df = df[df.userid==i].reset_index(drop=True)\n",
    "    # For every topic\n",
    "    topic_score = []\n",
    "    for j in range(0,7,1):\n",
    "        score = 0\n",
    "        count = 0\n",
    "        for k in range(0,len(temp_df),1):\n",
    "            # If topic equal to current topic\n",
    "            if temp_df.Topic[k] == j:\n",
    "                # Add sentiment score\n",
    "                score = score + temp_df.sentiment[k]\n",
    "                # Increase count\n",
    "                count = count + 1\n",
    "        # If count = 0 then no score for topic\n",
    "        if count==0:\n",
    "            topic_score.append(0)\n",
    "        # Else append average score for topic\n",
    "        else:\n",
    "            topic_score.append(score/count)\n",
    "    # Insert UserId and Star Rating \n",
    "    topic_score.insert(0,temp_df.userid[0])\n",
    "    topic_score.insert(len(topic_score),temp_df.stars[0])\n",
    "    # Transform and Append into main df\n",
    "    temp = pd.DataFrame(pd.Series(topic_score))\n",
    "    temp = temp.transpose()\n",
    "    temp.columns = df_scores.columns\n",
    "    df_scores = df_scores.append(temp,ignore_index=True)"
   ]
  },
  {
   "cell_type": "code",
   "execution_count": 43,
   "metadata": {
    "scrolled": true
   },
   "outputs": [
    {
     "data": {
      "text/html": [
       "<div>\n",
       "<style scoped>\n",
       "    .dataframe tbody tr th:only-of-type {\n",
       "        vertical-align: middle;\n",
       "    }\n",
       "\n",
       "    .dataframe tbody tr th {\n",
       "        vertical-align: top;\n",
       "    }\n",
       "\n",
       "    .dataframe thead th {\n",
       "        text-align: right;\n",
       "    }\n",
       "</style>\n",
       "<table border=\"1\" class=\"dataframe\">\n",
       "  <thead>\n",
       "    <tr style=\"text-align: right;\">\n",
       "      <th></th>\n",
       "      <th>userid</th>\n",
       "      <th>topic_0</th>\n",
       "      <th>topic_1</th>\n",
       "      <th>topic_2</th>\n",
       "      <th>topic_3</th>\n",
       "      <th>topic_4</th>\n",
       "      <th>topic_5</th>\n",
       "      <th>topic_6</th>\n",
       "      <th>stars</th>\n",
       "    </tr>\n",
       "  </thead>\n",
       "  <tbody>\n",
       "    <tr>\n",
       "      <th>0</th>\n",
       "      <td>0.0</td>\n",
       "      <td>0.7436</td>\n",
       "      <td>0.193525</td>\n",
       "      <td>0.0000</td>\n",
       "      <td>0.13765</td>\n",
       "      <td>0.04970</td>\n",
       "      <td>0.113150</td>\n",
       "      <td>0.11880</td>\n",
       "      <td>5.0</td>\n",
       "    </tr>\n",
       "    <tr>\n",
       "      <th>1</th>\n",
       "      <td>1.0</td>\n",
       "      <td>0.0000</td>\n",
       "      <td>0.000000</td>\n",
       "      <td>0.0000</td>\n",
       "      <td>0.00000</td>\n",
       "      <td>0.00000</td>\n",
       "      <td>0.000000</td>\n",
       "      <td>-0.20015</td>\n",
       "      <td>4.0</td>\n",
       "    </tr>\n",
       "    <tr>\n",
       "      <th>2</th>\n",
       "      <td>2.0</td>\n",
       "      <td>0.0000</td>\n",
       "      <td>0.000000</td>\n",
       "      <td>0.0000</td>\n",
       "      <td>0.00000</td>\n",
       "      <td>-0.21075</td>\n",
       "      <td>0.000000</td>\n",
       "      <td>0.00000</td>\n",
       "      <td>5.0</td>\n",
       "    </tr>\n",
       "    <tr>\n",
       "      <th>3</th>\n",
       "      <td>3.0</td>\n",
       "      <td>0.0000</td>\n",
       "      <td>-0.011300</td>\n",
       "      <td>0.3182</td>\n",
       "      <td>0.43720</td>\n",
       "      <td>0.31845</td>\n",
       "      <td>0.286075</td>\n",
       "      <td>0.00000</td>\n",
       "      <td>3.0</td>\n",
       "    </tr>\n",
       "    <tr>\n",
       "      <th>4</th>\n",
       "      <td>4.0</td>\n",
       "      <td>0.0000</td>\n",
       "      <td>0.000000</td>\n",
       "      <td>0.0000</td>\n",
       "      <td>-0.41580</td>\n",
       "      <td>0.59840</td>\n",
       "      <td>0.000000</td>\n",
       "      <td>0.00000</td>\n",
       "      <td>3.0</td>\n",
       "    </tr>\n",
       "  </tbody>\n",
       "</table>\n",
       "</div>"
      ],
      "text/plain": [
       "   userid  topic_0   topic_1  topic_2  topic_3  topic_4   topic_5  topic_6  \\\n",
       "0     0.0   0.7436  0.193525   0.0000  0.13765  0.04970  0.113150  0.11880   \n",
       "1     1.0   0.0000  0.000000   0.0000  0.00000  0.00000  0.000000 -0.20015   \n",
       "2     2.0   0.0000  0.000000   0.0000  0.00000 -0.21075  0.000000  0.00000   \n",
       "3     3.0   0.0000 -0.011300   0.3182  0.43720  0.31845  0.286075  0.00000   \n",
       "4     4.0   0.0000  0.000000   0.0000 -0.41580  0.59840  0.000000  0.00000   \n",
       "\n",
       "   stars  \n",
       "0    5.0  \n",
       "1    4.0  \n",
       "2    5.0  \n",
       "3    3.0  \n",
       "4    3.0  "
      ]
     },
     "execution_count": 43,
     "metadata": {},
     "output_type": "execute_result"
    }
   ],
   "source": [
    "df_scores.head()"
   ]
  },
  {
   "cell_type": "code",
   "execution_count": 44,
   "metadata": {},
   "outputs": [
    {
     "data": {
      "text/plain": [
       "userid     2923.000000\n",
       "topic_0       0.145195\n",
       "topic_1       0.123693\n",
       "topic_2       0.165337\n",
       "topic_3       0.173203\n",
       "topic_4       0.176861\n",
       "topic_5       0.190530\n",
       "topic_6       0.086748\n",
       "stars         3.919446\n",
       "dtype: float64"
      ]
     },
     "execution_count": 44,
     "metadata": {},
     "output_type": "execute_result"
    }
   ],
   "source": [
    "df_scores.mean()"
   ]
  },
  {
   "cell_type": "markdown",
   "metadata": {},
   "source": [
    "### Linear Regression"
   ]
  },
  {
   "cell_type": "code",
   "execution_count": 56,
   "metadata": {},
   "outputs": [],
   "source": [
    "# Split into predictors and target\n",
    "X = df_scores.drop(['userid','stars'],axis=1)\n",
    "y = df_scores.stars\n",
    "# Split Train vs Test\n",
    "X_train, X_test, y_train, y_test = train_test_split(X,y,test_size=0.2,stratify=y,random_state=1)\n",
    "# Split Test set into validation & test set\n",
    "X_test2, X_val, y_test2, y_val = train_test_split(X_test,y_test,test_size=0.5,stratify=y_test,random_state=1)"
   ]
  },
  {
   "cell_type": "markdown",
   "metadata": {},
   "source": [
    "#### Simple Linear Regression"
   ]
  },
  {
   "cell_type": "code",
   "execution_count": 46,
   "metadata": {},
   "outputs": [
    {
     "name": "stdout",
     "output_type": "stream",
     "text": [
      "const      3.174061\n",
      "topic_0    0.680705\n",
      "topic_1    0.503844\n",
      "topic_2    0.530447\n",
      "topic_3    0.282572\n",
      "topic_4    1.120632\n",
      "topic_5    0.967854\n",
      "topic_6    0.692441\n",
      "dtype: float64\n",
      "\n",
      "Mean Squared Error:  1.0876203657232053\n",
      "AIC:  13434.917423020273\n"
     ]
    },
    {
     "name": "stderr",
     "output_type": "stream",
     "text": [
      "/Users/jasper/anaconda3/lib/python3.7/site-packages/numpy/core/fromnumeric.py:2389: FutureWarning: Method .ptp is deprecated and will be removed in a future version. Use numpy.ptp instead.\n",
      "  return ptp(axis=axis, out=out, **kwargs)\n"
     ]
    }
   ],
   "source": [
    "model = sm.OLS(y_train,sm.add_constant(X_train)).fit()\n",
    "print(model.params)\n",
    "print()\n",
    "print('Mean Squared Error: ',mean_squared_error(y_val,model.predict(sm.add_constant(X_val))))\n",
    "print('AIC: ',model.aic)"
   ]
  },
  {
   "cell_type": "code",
   "execution_count": 47,
   "metadata": {
    "scrolled": false
   },
   "outputs": [
    {
     "name": "stdout",
     "output_type": "stream",
     "text": [
      "                            OLS Regression Results                            \n",
      "==============================================================================\n",
      "Dep. Variable:                  stars   R-squared:                       0.271\n",
      "Model:                            OLS   Adj. R-squared:                  0.270\n",
      "Method:                 Least Squares   F-statistic:                     248.4\n",
      "Date:                Mon, 02 Dec 2019   Prob (F-statistic):          3.28e-315\n",
      "Time:                        20:48:53   Log-Likelihood:                -6709.5\n",
      "No. Observations:                4677   AIC:                         1.343e+04\n",
      "Df Residuals:                    4669   BIC:                         1.349e+04\n",
      "Df Model:                           7                                         \n",
      "Covariance Type:            nonrobust                                         \n",
      "==============================================================================\n",
      "                 coef    std err          t      P>|t|      [0.025      0.975]\n",
      "------------------------------------------------------------------------------\n",
      "const          3.1741      0.024    130.298      0.000       3.126       3.222\n",
      "topic_0        0.6807      0.048     14.053      0.000       0.586       0.776\n",
      "topic_1        0.5038      0.059      8.523      0.000       0.388       0.620\n",
      "topic_2        0.5304      0.053     10.015      0.000       0.427       0.634\n",
      "topic_3        0.2826      0.049      5.781      0.000       0.187       0.378\n",
      "topic_4        1.1206      0.058     19.421      0.000       1.008       1.234\n",
      "topic_5        0.9679      0.047     20.491      0.000       0.875       1.060\n",
      "topic_6        0.6924      0.062     11.153      0.000       0.571       0.814\n",
      "==============================================================================\n",
      "Omnibus:                      187.300   Durbin-Watson:                   1.998\n",
      "Prob(Omnibus):                  0.000   Jarque-Bera (JB):              196.785\n",
      "Skew:                          -0.478   Prob(JB):                     1.86e-43\n",
      "Kurtosis:                       2.691   Cond. No.                         4.64\n",
      "==============================================================================\n",
      "\n",
      "Warnings:\n",
      "[1] Standard Errors assume that the covariance matrix of the errors is correctly specified.\n"
     ]
    }
   ],
   "source": [
    "print(model.summary())"
   ]
  },
  {
   "cell_type": "code",
   "execution_count": 48,
   "metadata": {},
   "outputs": [
    {
     "data": {
      "text/plain": [
       "const      0.000000e+00\n",
       "topic_0    5.723517e-44\n",
       "topic_1    2.066111e-17\n",
       "topic_2    2.249715e-23\n",
       "topic_3    7.900523e-09\n",
       "topic_4    7.405578e-81\n",
       "topic_5    1.992677e-89\n",
       "topic_6    1.591726e-28\n",
       "dtype: float64"
      ]
     },
     "execution_count": 48,
     "metadata": {},
     "output_type": "execute_result"
    }
   ],
   "source": [
    "model.pvalues"
   ]
  },
  {
   "cell_type": "markdown",
   "metadata": {},
   "source": [
    "\\begin{equation*}\n",
    "yhat = 3.17 + 0.68*Service + 0.50*Food 1 + 0.53*Worth + 0.28*Food/Service + 1.12*Topic 4 + 0.97*Food 2 + 0.69*Wait\n",
    "\\end{equation*}"
   ]
  },
  {
   "cell_type": "markdown",
   "metadata": {},
   "source": [
    "#### Removed Intercept and Non-Topics"
   ]
  },
  {
   "cell_type": "code",
   "execution_count": 49,
   "metadata": {
    "scrolled": true
   },
   "outputs": [
    {
     "name": "stdout",
     "output_type": "stream",
     "text": [
      "topic_0    2.412506\n",
      "topic_1    2.608909\n",
      "topic_2    3.110989\n",
      "topic_3    2.821543\n",
      "topic_5    3.400814\n",
      "topic_6    2.470316\n",
      "dtype: float64\n",
      "\n",
      "Mean Squared Error:  6.1199706344199205\n",
      "AIC:  21352.27008066784\n"
     ]
    }
   ],
   "source": [
    "# Split into predictors and target\n",
    "X = df_scores.drop(['userid','stars','topic_4'],axis=1)\n",
    "y = df_scores.stars\n",
    "# Split Train vs Test\n",
    "X_train, X_test, y_train, y_test = train_test_split(X,y,test_size=0.2,stratify=y,random_state=1)\n",
    "# Split Test set into validation & test set\n",
    "X_test2, X_val, y_test2, y_val = train_test_split(X_test,y_test,test_size=0.5,stratify=y_test,random_state=1)\n",
    "\n",
    "model = sm.OLS(y_train,X_train).fit()\n",
    "print(model.params)\n",
    "print()\n",
    "print('Mean Squared Error: ',mean_squared_error(y_val,model.predict(X_val)))\n",
    "print('AIC: ',model.aic)"
   ]
  },
  {
   "cell_type": "code",
   "execution_count": 50,
   "metadata": {
    "scrolled": false
   },
   "outputs": [
    {
     "name": "stdout",
     "output_type": "stream",
     "text": [
      "                                 OLS Regression Results                                \n",
      "=======================================================================================\n",
      "Dep. Variable:                  stars   R-squared (uncentered):                   0.665\n",
      "Model:                            OLS   Adj. R-squared (uncentered):              0.665\n",
      "Method:                 Least Squares   F-statistic:                              1549.\n",
      "Date:                Mon, 02 Dec 2019   Prob (F-statistic):                        0.00\n",
      "Time:                        20:55:10   Log-Likelihood:                         -10670.\n",
      "No. Observations:                4677   AIC:                                  2.135e+04\n",
      "Df Residuals:                    4671   BIC:                                  2.139e+04\n",
      "Df Model:                           6                                                  \n",
      "Covariance Type:            nonrobust                                                  \n",
      "==============================================================================\n",
      "                 coef    std err          t      P>|t|      [0.025      0.975]\n",
      "------------------------------------------------------------------------------\n",
      "topic_0        2.4125      0.109     22.105      0.000       2.199       2.626\n",
      "topic_1        2.6089      0.133     19.547      0.000       2.347       2.871\n",
      "topic_2        3.1110      0.116     26.770      0.000       2.883       3.339\n",
      "topic_3        2.8215      0.106     26.570      0.000       2.613       3.030\n",
      "topic_5        3.4008      0.103     33.109      0.000       3.199       3.602\n",
      "topic_6        2.4703      0.142     17.435      0.000       2.193       2.748\n",
      "==============================================================================\n",
      "Omnibus:                       75.679   Durbin-Watson:                   1.337\n",
      "Prob(Omnibus):                  0.000   Jarque-Bera (JB):               80.105\n",
      "Skew:                          -0.298   Prob(JB):                     4.03e-18\n",
      "Kurtosis:                       3.236   Cond. No.                         2.06\n",
      "==============================================================================\n",
      "\n",
      "Warnings:\n",
      "[1] Standard Errors assume that the covariance matrix of the errors is correctly specified.\n"
     ]
    }
   ],
   "source": [
    "print(model.summary())"
   ]
  },
  {
   "cell_type": "code",
   "execution_count": 51,
   "metadata": {},
   "outputs": [
    {
     "data": {
      "text/plain": [
       "topic_0    4.578221e-103\n",
       "topic_1     7.556250e-82\n",
       "topic_2    5.436513e-147\n",
       "topic_3    5.494500e-145\n",
       "topic_5    4.019386e-216\n",
       "topic_6     5.276034e-66\n",
       "dtype: float64"
      ]
     },
     "execution_count": 51,
     "metadata": {},
     "output_type": "execute_result"
    }
   ],
   "source": [
    "model.pvalues"
   ]
  },
  {
   "cell_type": "markdown",
   "metadata": {},
   "source": [
    "\\begin{equation*}\n",
    "yhat = 2.41*Service + 2.61*Food 1 + 3.11*Worth + 2.82*Food/Service + 3.40*Food 2 + 2.47*Wait\n",
    "\\end{equation*}"
   ]
  },
  {
   "cell_type": "markdown",
   "metadata": {},
   "source": [
    "#### Linear regression with sklearn"
   ]
  },
  {
   "cell_type": "code",
   "execution_count": 59,
   "metadata": {},
   "outputs": [
    {
     "name": "stdout",
     "output_type": "stream",
     "text": [
      "Train MSE:\n",
      "1.0317456429287568\n",
      "Test MSE:\n",
      "1.0876203657232053\n",
      "Intercept\n",
      "3.17406095449679\n"
     ]
    }
   ],
   "source": [
    "from sklearn import metrics\n",
    "\n",
    "lr_original = LinearRegression()\n",
    "lr_original.fit(X_train, y_train)\n",
    "y_pred_train = lr_original.predict(X_train)\n",
    "print('Train MSE:')\n",
    "print(metrics.mean_squared_error(y_train, y_pred_train))\n",
    "\n",
    "y_pred_test = lr_original.predict(X_val)\n",
    "print('Test MSE:')\n",
    "print(metrics.mean_squared_error(y_val, y_pred_test))\n",
    "print('Intercept')\n",
    "print(lr_original.intercept_)"
   ]
  },
  {
   "cell_type": "markdown",
   "metadata": {},
   "source": [
    "#### Add Polynomial to regression with CV"
   ]
  },
  {
   "cell_type": "code",
   "execution_count": 60,
   "metadata": {},
   "outputs": [
    {
     "name": "stdout",
     "output_type": "stream",
     "text": [
      "(5847, 7)\n",
      "(5847, 29)\n",
      "[4.18959158 2.7058387  2.62596448 4.08988227 3.68935249 4.67656662\n",
      " 4.04500816 4.66958285 4.21138465 4.40711821]\n",
      "10-fold MSEs:\n",
      "[1.0334189703815921, 0.9119757245845305, 0.9952264731319856, 0.9329670621921056, 1.0166746214064757, 0.9217593170690883, 0.9513152439226702, 0.9858325566587982, 0.9101271194305534, 0.9885843311370569]\n",
      "CV Average MSE:\n",
      "0.9647881419914857\n"
     ]
    }
   ],
   "source": [
    "pf = PolynomialFeatures(degree=2, interaction_only=True)\n",
    "X_pf = pf.fit_transform(X)\n",
    "print(X.shape)\n",
    "print(X_pf.shape)\n",
    "\n",
    "lr2 = LinearRegression()\n",
    "kfold = KFold(n_splits=10, shuffle=True, random_state=1)\n",
    "pf_cross_val_scores = cross_val_score(lr2, X_pf, y, \n",
    "                                      scoring='neg_mean_squared_error', cv=kfold)\n",
    "pf_cross_val_predicts = cross_val_predict(lr2, X_pf, y, cv=kfold)\n",
    "print(pf_cross_val_predicts[:10])\n",
    "\n",
    "\n",
    "print('10-fold MSEs:')\n",
    "print([(-x) for x in pf_cross_val_scores])\n",
    "\n",
    "print('CV Average MSE:')\n",
    "print(-np.mean(pf_cross_val_scores))"
   ]
  },
  {
   "cell_type": "code",
   "execution_count": null,
   "metadata": {},
   "outputs": [],
   "source": []
  },
  {
   "cell_type": "markdown",
   "metadata": {},
   "source": [
    "#### Use ridge regularization"
   ]
  },
  {
   "cell_type": "code",
   "execution_count": 76,
   "metadata": {},
   "outputs": [
    {
     "name": "stdout",
     "output_type": "stream",
     "text": [
      "Ridge CV MSE:\n",
      "1.0391294532242619\n",
      "Ridge PF CV MSE:\n",
      "0.964287921766946\n"
     ]
    }
   ],
   "source": [
    "ridge = RidgeCV(store_cv_values=True)\n",
    "ridge.fit(X,y)\n",
    "\n",
    "ridge_MSEs = ridge.cv_values_\n",
    "print('Ridge CV MSE:')\n",
    "print(np.mean(ridge_MSEs))\n",
    "\n",
    "# try on expanded polynomial features\n",
    "ridge_pf = RidgeCV(store_cv_values=True)\n",
    "ridge_pf.fit(X_pf, y)\n",
    "\n",
    "ridge_pf_MSEs = ridge_pf.cv_values_\n",
    "print('Ridge PF CV MSE:')\n",
    "print(np.mean(ridge_pf_MSEs))"
   ]
  },
  {
   "cell_type": "code",
   "execution_count": 71,
   "metadata": {},
   "outputs": [
    {
     "data": {
      "text/plain": [
       "Text(0.5, 1.0, 'Feature importance using RidgeModel')"
      ]
     },
     "execution_count": 71,
     "metadata": {},
     "output_type": "execute_result"
    },
    {
     "data": {
      "image/png": "[encoded data removed]",
      "text/plain": [
       "<Figure size 576x720 with 1 Axes>"
      ]
     },
     "metadata": {
      "needs_background": "light"
     },
     "output_type": "display_data"
    }
   ],
   "source": [
    "coef_ridge = pd.Series(ridge.coef_, index = X.columns)\n",
    "imp_coef = coef_ridge.sort_values()\n",
    "matplotlib.rcParams['figure.figsize'] = (8.0, 10.0)\n",
    "imp_coef.plot(kind = \"barh\")\n",
    "plt.title(\"Feature importance using RidgeModel\")"
   ]
  },
  {
   "cell_type": "code",
   "execution_count": 73,
   "metadata": {},
   "outputs": [
    {
     "data": {
      "text/plain": [
       "topic_0    0.668716\n",
       "topic_1    0.549885\n",
       "topic_2    0.531446\n",
       "topic_3    0.259741\n",
       "topic_4    1.108882\n",
       "topic_5    0.946356\n",
       "topic_6    0.673564\n",
       "dtype: float64"
      ]
     },
     "execution_count": 73,
     "metadata": {},
     "output_type": "execute_result"
    }
   ],
   "source": [
    "coef_ridge"
   ]
  },
  {
   "cell_type": "markdown",
   "metadata": {},
   "source": [
    "#### Lasso "
   ]
  },
  {
   "cell_type": "code",
   "execution_count": 65,
   "metadata": {},
   "outputs": [
    {
     "name": "stderr",
     "output_type": "stream",
     "text": [
      "/Users/jasper/anaconda3/lib/python3.7/site-packages/sklearn/model_selection/_split.py:1978: FutureWarning: The default value of cv will change from 3 to 5 in version 0.22. Specify it explicitly to silence this warning.\n",
      "  warnings.warn(CV_WARNING, FutureWarning)\n"
     ]
    }
   ],
   "source": [
    "reg = LassoCV()\n",
    "reg.fit(X, y)\n",
    "coef = pd.Series(reg.coef_, index = X.columns)"
   ]
  },
  {
   "cell_type": "code",
   "execution_count": 66,
   "metadata": {},
   "outputs": [
    {
     "name": "stdout",
     "output_type": "stream",
     "text": [
      "Lasso picked 7 variables and eliminated the other 0 variables\n"
     ]
    }
   ],
   "source": [
    "print(\"Lasso picked \" + str(sum(coef != 0)) + \" variables and eliminated the other \" +  str(sum(coef == 0)) + \" variables\")"
   ]
  },
  {
   "cell_type": "code",
   "execution_count": 80,
   "metadata": {},
   "outputs": [
    {
     "name": "stdout",
     "output_type": "stream",
     "text": [
      "Lasso CV MSE:\n",
      "1.0830232388749617\n"
     ]
    }
   ],
   "source": [
    "print('Lasso CV MSE:')\n",
    "print(np.mean(reg.mse_path_))"
   ]
  },
  {
   "cell_type": "code",
   "execution_count": 69,
   "metadata": {},
   "outputs": [
    {
     "data": {
      "text/plain": [
       "Text(0.5, 1.0, 'Feature importance using Lasso Model')"
      ]
     },
     "execution_count": 69,
     "metadata": {},
     "output_type": "execute_result"
    },
    {
     "data": {
      "image/png": "[encoded data removed]",
      "text/plain": [
       "<Figure size 576x720 with 1 Axes>"
      ]
     },
     "metadata": {
      "needs_background": "light"
     },
     "output_type": "display_data"
    }
   ],
   "source": [
    "imp_coef = coef.sort_values()\n",
    "matplotlib.rcParams['figure.figsize'] = (8.0, 10.0)\n",
    "imp_coef.plot(kind = \"barh\")\n",
    "plt.title(\"Feature importance using Lasso Model\")"
   ]
  },
  {
   "cell_type": "code",
   "execution_count": 72,
   "metadata": {},
   "outputs": [
    {
     "data": {
      "text/plain": [
       "topic_0    0.666412\n",
       "topic_1    0.545871\n",
       "topic_2    0.527879\n",
       "topic_3    0.255754\n",
       "topic_4    1.107129\n",
       "topic_5    0.944273\n",
       "topic_6    0.668980\n",
       "dtype: float64"
      ]
     },
     "execution_count": 72,
     "metadata": {},
     "output_type": "execute_result"
    }
   ],
   "source": [
    "coef"
   ]
  },
  {
   "cell_type": "markdown",
   "metadata": {},
   "source": [
    "### Baseline algorithm test"
   ]
  },
  {
   "cell_type": "markdown",
   "metadata": {},
   "source": [
    "- Use cross-validation to validate performance of different algorithms in totality\n",
    "\n",
    "- Algorithms will be tested with different choices of parameters using GridSearchCV"
   ]
  },
  {
   "cell_type": "code",
   "execution_count": 189,
   "metadata": {},
   "outputs": [
    {
     "name": "stdout",
     "output_type": "stream",
     "text": [
      "  models       MSE\n",
      "2  Ridge  1.034118\n",
      "[{'normalize': True}, {'alpha': 0.1}, {'alpha': 1}, {'alpha': 0.1}]\n"
     ]
    },
    {
     "data": {
      "image/png": "[encoded data removed]",
      "text/plain": [
       "<Figure size 432x288 with 1 Axes>"
      ]
     },
     "metadata": {
      "needs_background": "light"
     },
     "output_type": "display_data"
    }
   ],
   "source": [
    "# GridSearch to see if optimizing the parameters will improve (lower) the MSE\n",
    "reg_models = [('LinReg', LinearRegression(), {'normalize': [True, False]}),\n",
    "              ('Lasso', Lasso(), {'alpha': [0.1, 0.2, 0.3, 0.4, 0.5, 0.6, 0.7, 0.8, 0.9, 1]}),\n",
    "              ('Ridge', Ridge(), {'alpha': [0.1, 0.2, 0.3, 0.4, 0.5, 0.6, 0.7, 0.8, 0.9, 1]}),\n",
    "              ('ElasticNet', ElasticNet(), {'alpha': [0.1, 0.2, 0.3, 0.4, 0.5, 0.6, 0.7, 0.8, 0.9, 1]}),\n",
    "              ]\n",
    "\n",
    "\n",
    "names = []\n",
    "params = []\n",
    "results = []\n",
    "\n",
    "for name, model, param in reg_models:\n",
    "    kfold = KFold(n_splits=10, shuffle=True, random_state=1)\n",
    "    reg_grid = GridSearchCV(model, param, cv=kfold, scoring='neg_mean_squared_error')\n",
    "    reg_grid.fit(X_train, y_train)\n",
    "    best_model = reg_grid.best_estimator_\n",
    "    names.append(name)\n",
    "    params.append(reg_grid.best_params_)\n",
    "    results.append(-reg_grid.best_score_)  # RMSE\n",
    "    \n",
    "    \n",
    "result_df = pd.DataFrame({'models': names, 'results': results})\n",
    "result_df.columns = ['models', 'MSE']\n",
    "result_df.sort_values(by='MSE', ascending=False, inplace=True)\n",
    "print(result_df.tail(1))\n",
    "print(params)\n",
    "\n",
    "\n",
    "sns.barplot(x='models', y='MSE', data=result_df);"
   ]
  },
  {
   "cell_type": "code",
   "execution_count": 1,
   "metadata": {},
   "outputs": [],
   "source": [
    "# result_df"
   ]
  },
  {
   "cell_type": "code",
   "execution_count": 207,
   "metadata": {},
   "outputs": [
    {
     "data": {
      "text/plain": [
       "[1.0341205421479192,\n",
       " 1.3836041092639086,\n",
       " 1.0341176704437358,\n",
       " 1.2432117394985278]"
      ]
     },
     "execution_count": 207,
     "metadata": {},
     "output_type": "execute_result"
    }
   ],
   "source": [
    "results"
   ]
  },
  {
   "cell_type": "markdown",
   "metadata": {},
   "source": [
    "The best alpha level for ridge is 1 with the least mean square error among, 1.034."
   ]
  },
  {
   "cell_type": "markdown",
   "metadata": {},
   "source": [
    "### Finalise and validate model"
   ]
  },
  {
   "cell_type": "code",
   "execution_count": 199,
   "metadata": {},
   "outputs": [
    {
     "name": "stdout",
     "output_type": "stream",
     "text": [
      "1.087100782759048\n"
     ]
    }
   ],
   "source": [
    "model_lr = LinearRegression(normalize=True)\n",
    "model_lr.fit(X_train, y_train)\n",
    "\n",
    "# validation set\n",
    "predictions = model_lr.predict(X_val)\n",
    "MSE = mean_squared_error(y_val,predictions)\n",
    "print(MSE)"
   ]
  },
  {
   "cell_type": "code",
   "execution_count": 200,
   "metadata": {},
   "outputs": [
    {
     "data": {
      "text/plain": [
       "-12957.907577474898"
      ]
     },
     "execution_count": 200,
     "metadata": {},
     "output_type": "execute_result"
    }
   ],
   "source": [
    "SSE = MSE*len(y_val)\n",
    "lr_test_aic = 5847*np.log(SSE/5847) + 2*7\n",
    "lr_test_aic"
   ]
  },
  {
   "cell_type": "code",
   "execution_count": 181,
   "metadata": {},
   "outputs": [
    {
     "name": "stdout",
     "output_type": "stream",
     "text": [
      "1.086996129463049\n"
     ]
    }
   ],
   "source": [
    "model_final = Ridge(alpha=1)\n",
    "model_final.fit(X_train, y_train)\n",
    "\n",
    "# validation set\n",
    "predictions = model_final.predict(X_val)\n",
    "MSE = mean_squared_error(y_val,predictions)\n",
    "print(MSE)"
   ]
  },
  {
   "cell_type": "code",
   "execution_count": 182,
   "metadata": {},
   "outputs": [
    {
     "data": {
      "text/plain": [
       "(5847, 7)"
      ]
     },
     "execution_count": 182,
     "metadata": {},
     "output_type": "execute_result"
    }
   ],
   "source": [
    "X.shape"
   ]
  },
  {
   "cell_type": "code",
   "execution_count": 183,
   "metadata": {},
   "outputs": [],
   "source": [
    "SSE = MSE*len(y_val)\n",
    "ridge_test_aic = 5847*np.log(SSE/5847) + 2*7"
   ]
  },
  {
   "cell_type": "code",
   "execution_count": 184,
   "metadata": {},
   "outputs": [
    {
     "data": {
      "text/plain": [
       "-12958.47048506079"
      ]
     },
     "execution_count": 184,
     "metadata": {},
     "output_type": "execute_result"
    }
   ],
   "source": [
    "ridge_test_aic"
   ]
  },
  {
   "cell_type": "code",
   "execution_count": null,
   "metadata": {},
   "outputs": [],
   "source": []
  },
  {
   "cell_type": "markdown",
   "metadata": {},
   "source": [
    "*****"
   ]
  },
  {
   "cell_type": "markdown",
   "metadata": {},
   "source": [
    "#### Forward Selection(OPTIONAL)"
   ]
  },
  {
   "cell_type": "code",
   "execution_count": 57,
   "metadata": {},
   "outputs": [],
   "source": [
    "import statsmodels.formula.api as smf\n",
    "\n",
    "# forward model selection evaluated by adjusted R-square\n",
    "def forward_selected(data, response):\n",
    "    \n",
    "    remaining = set(data.columns)\n",
    "    remaining.remove(response)\n",
    "    selected = []\n",
    "    current_score, best_new_score = 0.0, 0.0\n",
    "    while remaining and current_score == best_new_score:\n",
    "        scores_with_candidates = []\n",
    "        for candidate in remaining:\n",
    "            formula = \"{} ~ {} + 1\".format(response,\n",
    "                                           ' + '.join(selected + [candidate]))\n",
    "            score = smf.ols(formula, data).fit().rsquared_adj\n",
    "            scores_with_candidates.append((score, candidate))\n",
    "        scores_with_candidates.sort()\n",
    "        best_new_score, best_candidate = scores_with_candidates.pop()\n",
    "        if current_score < best_new_score:\n",
    "            remaining.remove(best_candidate)\n",
    "            selected.append(best_candidate)\n",
    "            current_score = best_new_score\n",
    "    formula = \"{} ~ {} + 1\".format(response,\n",
    "                                   ' + '.join(selected))\n",
    "    model = smf.ols(formula, data).fit()\n",
    "    return model"
   ]
  },
  {
   "cell_type": "code",
   "execution_count": 58,
   "metadata": {},
   "outputs": [
    {
     "name": "stdout",
     "output_type": "stream",
     "text": [
      "stars ~ topic_4 + topic_5 + topic_0 + topic_6 + topic_2 + topic_1 + topic_3 + userid + 1\n",
      "0.267985499714121\n"
     ]
    }
   ],
   "source": [
    "model = forward_selected(df_scores, 'stars')\n",
    "\n",
    "print (model.model.formula)\n",
    "print (model.rsquared_adj)"
   ]
  },
  {
   "cell_type": "code",
   "execution_count": 59,
   "metadata": {},
   "outputs": [],
   "source": [
    "df_scores_1 = df_scores.copy()"
   ]
  },
  {
   "cell_type": "code",
   "execution_count": 60,
   "metadata": {},
   "outputs": [
    {
     "name": "stdout",
     "output_type": "stream",
     "text": [
      "stars ~ topic_5 + topic_0 + topic_6 + topic_1 + topic_2 + topic_3 + userid + 1\n",
      "0.2092832279232716\n"
     ]
    }
   ],
   "source": [
    "df_scores_1 = df_scores_1.drop(['topic_4'], axis=1)\n",
    "model_1 = forward_selected(df_scores_1, 'stars')\n",
    "\n",
    "print (model_1.model.formula)\n",
    "print (model_1.rsquared_adj)"
   ]
  },
  {
   "cell_type": "code",
   "execution_count": null,
   "metadata": {},
   "outputs": [],
   "source": []
  }
 ],
 "metadata": {
  "kernelspec": {
   "display_name": "Python 3",
   "language": "python",
   "name": "python3"
  },
  "language_info": {
   "codemirror_mode": {
    "name": "ipython",
    "version": 3
   },
   "file_extension": ".py",
   "mimetype": "text/x-python",
   "name": "python",
   "nbconvert_exporter": "python",
   "pygments_lexer": "ipython3",
   "version": "3.7.3"
  }
 },
 "nbformat": 4,
 "nbformat_minor": 2
}
